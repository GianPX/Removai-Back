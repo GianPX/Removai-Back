{
  "nbformat": 4,
  "nbformat_minor": 0,
  "metadata": {
    "colab": {
      "provenance": []
    },
    "kernelspec": {
      "name": "python3",
      "display_name": "Python 3"
    },
    "language_info": {
      "name": "python"
    }
  },
  "cells": [
    {
      "cell_type": "code",
      "execution_count": 1,
      "metadata": {
        "colab": {
          "base_uri": "https://localhost:8080/"
        },
        "id": "yAHceUi9nRX-",
        "outputId": "58facc34-010d-4633-a340-b03498115ab8"
      },
      "outputs": [
        {
          "output_type": "stream",
          "name": "stdout",
          "text": [
            "Mounted at /content/gdrive\n"
          ]
        }
      ],
      "source": [
        "from google.colab import drive\n",
        "drive.mount('/content/gdrive')\n"
      ]
    },
    {
      "cell_type": "code",
      "source": [
        "%cd '/content/gdrive/MyDrive'\n",
        "!git clone https://github.com/Nkap23/background_removal_DL.git\n",
        "#https://nisargkapkar.hashnode.dev/image-and-video-background-removal-using-deep-learning\n"
      ],
      "metadata": {
        "colab": {
          "base_uri": "https://localhost:8080/"
        },
        "collapsed": true,
        "id": "9Svtuo8gngSk",
        "outputId": "5c5d4582-31fb-4898-9b98-fabebb96a7fb"
      },
      "execution_count": 2,
      "outputs": [
        {
          "output_type": "stream",
          "name": "stdout",
          "text": [
            "/content/gdrive/MyDrive\n",
            "Cloning into 'background_removal_DL'...\n",
            "remote: Enumerating objects: 86, done.\u001b[K\n",
            "remote: Counting objects: 100% (86/86), done.\u001b[K\n",
            "remote: Compressing objects: 100% (61/61), done.\u001b[K\n",
            "remote: Total 86 (delta 26), reused 54 (delta 11), pack-reused 0\u001b[K\n",
            "Receiving objects: 100% (86/86), 6.55 MiB | 12.50 MiB/s, done.\n",
            "Resolving deltas: 100% (26/26), done.\n"
          ]
        }
      ]
    },
    {
      "cell_type": "code",
      "source": [
        "import cv2\n",
        "from PIL import Image\n"
      ],
      "metadata": {
        "id": "WcZyLCQAp9F4"
      },
      "execution_count": 6,
      "outputs": []
    },
    {
      "cell_type": "code",
      "source": [
        "%cd '/content/gdrive/MyDrive/background_removal_DL/test_data/videos'\n",
        "!mkdir input_frames\n",
        "!mkdir output_frames\n",
        "!mkdir u2net_results\n"
      ],
      "metadata": {
        "colab": {
          "base_uri": "https://localhost:8080/"
        },
        "id": "6Hh9IaouqY32",
        "outputId": "2f1fdc25-d8f0-442c-979b-d69bce95c4e7"
      },
      "execution_count": 7,
      "outputs": [
        {
          "output_type": "stream",
          "name": "stdout",
          "text": [
            "/content/gdrive/MyDrive/background_removal_DL/test_data/videos\n"
          ]
        }
      ]
    },
    {
      "cell_type": "code",
      "source": [
        "#CHANGE INPUT FILE EXTENSION HERE - BY DEFAULT: .mp4\n",
        "video=cv2.VideoCapture('/content/gdrive/MyDrive/background_removal_DL/test_data/videos/input/prueba-ia.mp4')\n",
        "fps=video.get(cv2.CAP_PROP_FPS)\n",
        "count=0\n",
        "flag=1\n",
        "while flag:\n",
        "  flag,image=video.read()\n",
        "  if flag==0:\n",
        "    break\n",
        "  cv2.imwrite('/content/gdrive/MyDrive/background_removal_DL/test_data/videos/input_frames/'+'input'+str(count)+'.png',image)\n",
        "  count=count+1\n"
      ],
      "metadata": {
        "id": "J_OVYH1Vqcg2"
      },
      "execution_count": 69,
      "outputs": []
    },
    {
      "cell_type": "code",
      "source": [
        "%cd '/content/gdrive/MyDrive/background_removal_DL'\n",
        "!python u2net_video.py\n"
      ],
      "metadata": {
        "collapsed": true,
        "colab": {
          "base_uri": "https://localhost:8080/"
        },
        "id": "nVhGSya3qjZ2",
        "outputId": "61366b6d-d1fc-4a0e-fe70-6c3ee90c6866"
      },
      "execution_count": 70,
      "outputs": [
        {
          "output_type": "stream",
          "name": "stdout",
          "text": [
            "/content/gdrive/MyDrive/background_removal_DL\n",
            "['/content/gdrive/MyDrive/background_removal_DL/test_data/videos/input_frames/input0.png', '/content/gdrive/MyDrive/background_removal_DL/test_data/videos/input_frames/input1.png', '/content/gdrive/MyDrive/background_removal_DL/test_data/videos/input_frames/input2.png', '/content/gdrive/MyDrive/background_removal_DL/test_data/videos/input_frames/input3.png', '/content/gdrive/MyDrive/background_removal_DL/test_data/videos/input_frames/input4.png', '/content/gdrive/MyDrive/background_removal_DL/test_data/videos/input_frames/input5.png', '/content/gdrive/MyDrive/background_removal_DL/test_data/videos/input_frames/input6.png', '/content/gdrive/MyDrive/background_removal_DL/test_data/videos/input_frames/input7.png', '/content/gdrive/MyDrive/background_removal_DL/test_data/videos/input_frames/input8.png', '/content/gdrive/MyDrive/background_removal_DL/test_data/videos/input_frames/input9.png', '/content/gdrive/MyDrive/background_removal_DL/test_data/videos/input_frames/input10.png', '/content/gdrive/MyDrive/background_removal_DL/test_data/videos/input_frames/input11.png', '/content/gdrive/MyDrive/background_removal_DL/test_data/videos/input_frames/input12.png', '/content/gdrive/MyDrive/background_removal_DL/test_data/videos/input_frames/input13.png', '/content/gdrive/MyDrive/background_removal_DL/test_data/videos/input_frames/input14.png', '/content/gdrive/MyDrive/background_removal_DL/test_data/videos/input_frames/input15.png', '/content/gdrive/MyDrive/background_removal_DL/test_data/videos/input_frames/input16.png', '/content/gdrive/MyDrive/background_removal_DL/test_data/videos/input_frames/input17.png', '/content/gdrive/MyDrive/background_removal_DL/test_data/videos/input_frames/input18.png', '/content/gdrive/MyDrive/background_removal_DL/test_data/videos/input_frames/input19.png', '/content/gdrive/MyDrive/background_removal_DL/test_data/videos/input_frames/input20.png', '/content/gdrive/MyDrive/background_removal_DL/test_data/videos/input_frames/input21.png', '/content/gdrive/MyDrive/background_removal_DL/test_data/videos/input_frames/input22.png', '/content/gdrive/MyDrive/background_removal_DL/test_data/videos/input_frames/input23.png', '/content/gdrive/MyDrive/background_removal_DL/test_data/videos/input_frames/input24.png', '/content/gdrive/MyDrive/background_removal_DL/test_data/videos/input_frames/input25.png', '/content/gdrive/MyDrive/background_removal_DL/test_data/videos/input_frames/input26.png', '/content/gdrive/MyDrive/background_removal_DL/test_data/videos/input_frames/input27.png', '/content/gdrive/MyDrive/background_removal_DL/test_data/videos/input_frames/input28.png', '/content/gdrive/MyDrive/background_removal_DL/test_data/videos/input_frames/input29.png', '/content/gdrive/MyDrive/background_removal_DL/test_data/videos/input_frames/input30.png', '/content/gdrive/MyDrive/background_removal_DL/test_data/videos/input_frames/input31.png', '/content/gdrive/MyDrive/background_removal_DL/test_data/videos/input_frames/input32.png', '/content/gdrive/MyDrive/background_removal_DL/test_data/videos/input_frames/input33.png', '/content/gdrive/MyDrive/background_removal_DL/test_data/videos/input_frames/input34.png', '/content/gdrive/MyDrive/background_removal_DL/test_data/videos/input_frames/input35.png', '/content/gdrive/MyDrive/background_removal_DL/test_data/videos/input_frames/input36.png', '/content/gdrive/MyDrive/background_removal_DL/test_data/videos/input_frames/input37.png', '/content/gdrive/MyDrive/background_removal_DL/test_data/videos/input_frames/input38.png', '/content/gdrive/MyDrive/background_removal_DL/test_data/videos/input_frames/input39.png', '/content/gdrive/MyDrive/background_removal_DL/test_data/videos/input_frames/input40.png', '/content/gdrive/MyDrive/background_removal_DL/test_data/videos/input_frames/input41.png', '/content/gdrive/MyDrive/background_removal_DL/test_data/videos/input_frames/input42.png', '/content/gdrive/MyDrive/background_removal_DL/test_data/videos/input_frames/input43.png', '/content/gdrive/MyDrive/background_removal_DL/test_data/videos/input_frames/input44.png', '/content/gdrive/MyDrive/background_removal_DL/test_data/videos/input_frames/input45.png', '/content/gdrive/MyDrive/background_removal_DL/test_data/videos/input_frames/input46.png', '/content/gdrive/MyDrive/background_removal_DL/test_data/videos/input_frames/input47.png', '/content/gdrive/MyDrive/background_removal_DL/test_data/videos/input_frames/input48.png', '/content/gdrive/MyDrive/background_removal_DL/test_data/videos/input_frames/input49.png', '/content/gdrive/MyDrive/background_removal_DL/test_data/videos/input_frames/input50.png', '/content/gdrive/MyDrive/background_removal_DL/test_data/videos/input_frames/input51.png', '/content/gdrive/MyDrive/background_removal_DL/test_data/videos/input_frames/input52.png', '/content/gdrive/MyDrive/background_removal_DL/test_data/videos/input_frames/input53.png', '/content/gdrive/MyDrive/background_removal_DL/test_data/videos/input_frames/input54.png', '/content/gdrive/MyDrive/background_removal_DL/test_data/videos/input_frames/input55.png', '/content/gdrive/MyDrive/background_removal_DL/test_data/videos/input_frames/input56.png', '/content/gdrive/MyDrive/background_removal_DL/test_data/videos/input_frames/input57.png', '/content/gdrive/MyDrive/background_removal_DL/test_data/videos/input_frames/input58.png', '/content/gdrive/MyDrive/background_removal_DL/test_data/videos/input_frames/input59.png', '/content/gdrive/MyDrive/background_removal_DL/test_data/videos/input_frames/input60.png', '/content/gdrive/MyDrive/background_removal_DL/test_data/videos/input_frames/input61.png', '/content/gdrive/MyDrive/background_removal_DL/test_data/videos/input_frames/input62.png', '/content/gdrive/MyDrive/background_removal_DL/test_data/videos/input_frames/input63.png', '/content/gdrive/MyDrive/background_removal_DL/test_data/videos/input_frames/input64.png', '/content/gdrive/MyDrive/background_removal_DL/test_data/videos/input_frames/input65.png', '/content/gdrive/MyDrive/background_removal_DL/test_data/videos/input_frames/input66.png', '/content/gdrive/MyDrive/background_removal_DL/test_data/videos/input_frames/input67.png', '/content/gdrive/MyDrive/background_removal_DL/test_data/videos/input_frames/input68.png', '/content/gdrive/MyDrive/background_removal_DL/test_data/videos/input_frames/input69.png', '/content/gdrive/MyDrive/background_removal_DL/test_data/videos/input_frames/input70.png', '/content/gdrive/MyDrive/background_removal_DL/test_data/videos/input_frames/input71.png', '/content/gdrive/MyDrive/background_removal_DL/test_data/videos/input_frames/input72.png', '/content/gdrive/MyDrive/background_removal_DL/test_data/videos/input_frames/input73.png', '/content/gdrive/MyDrive/background_removal_DL/test_data/videos/input_frames/input74.png', '/content/gdrive/MyDrive/background_removal_DL/test_data/videos/input_frames/input75.png', '/content/gdrive/MyDrive/background_removal_DL/test_data/videos/input_frames/input76.png', '/content/gdrive/MyDrive/background_removal_DL/test_data/videos/input_frames/input77.png', '/content/gdrive/MyDrive/background_removal_DL/test_data/videos/input_frames/input78.png', '/content/gdrive/MyDrive/background_removal_DL/test_data/videos/input_frames/input79.png', '/content/gdrive/MyDrive/background_removal_DL/test_data/videos/input_frames/input80.png', '/content/gdrive/MyDrive/background_removal_DL/test_data/videos/input_frames/input81.png', '/content/gdrive/MyDrive/background_removal_DL/test_data/videos/input_frames/input82.png', '/content/gdrive/MyDrive/background_removal_DL/test_data/videos/input_frames/input83.png', '/content/gdrive/MyDrive/background_removal_DL/test_data/videos/input_frames/input84.png', '/content/gdrive/MyDrive/background_removal_DL/test_data/videos/input_frames/input85.png', '/content/gdrive/MyDrive/background_removal_DL/test_data/videos/input_frames/input86.png', '/content/gdrive/MyDrive/background_removal_DL/test_data/videos/input_frames/input87.png', '/content/gdrive/MyDrive/background_removal_DL/test_data/videos/input_frames/input88.png', '/content/gdrive/MyDrive/background_removal_DL/test_data/videos/input_frames/input89.png', '/content/gdrive/MyDrive/background_removal_DL/test_data/videos/input_frames/input90.png', '/content/gdrive/MyDrive/background_removal_DL/test_data/videos/input_frames/input91.png', '/content/gdrive/MyDrive/background_removal_DL/test_data/videos/input_frames/input92.png', '/content/gdrive/MyDrive/background_removal_DL/test_data/videos/input_frames/input93.png', '/content/gdrive/MyDrive/background_removal_DL/test_data/videos/input_frames/input94.png', '/content/gdrive/MyDrive/background_removal_DL/test_data/videos/input_frames/input95.png', '/content/gdrive/MyDrive/background_removal_DL/test_data/videos/input_frames/input96.png', '/content/gdrive/MyDrive/background_removal_DL/test_data/videos/input_frames/input97.png', '/content/gdrive/MyDrive/background_removal_DL/test_data/videos/input_frames/input98.png', '/content/gdrive/MyDrive/background_removal_DL/test_data/videos/input_frames/input99.png', '/content/gdrive/MyDrive/background_removal_DL/test_data/videos/input_frames/input100.png', '/content/gdrive/MyDrive/background_removal_DL/test_data/videos/input_frames/input101.png', '/content/gdrive/MyDrive/background_removal_DL/test_data/videos/input_frames/input102.png', '/content/gdrive/MyDrive/background_removal_DL/test_data/videos/input_frames/input103.png', '/content/gdrive/MyDrive/background_removal_DL/test_data/videos/input_frames/input104.png', '/content/gdrive/MyDrive/background_removal_DL/test_data/videos/input_frames/input105.png', '/content/gdrive/MyDrive/background_removal_DL/test_data/videos/input_frames/input106.png', '/content/gdrive/MyDrive/background_removal_DL/test_data/videos/input_frames/input107.png', '/content/gdrive/MyDrive/background_removal_DL/test_data/videos/input_frames/input108.png', '/content/gdrive/MyDrive/background_removal_DL/test_data/videos/input_frames/input109.png', '/content/gdrive/MyDrive/background_removal_DL/test_data/videos/input_frames/input110.png', '/content/gdrive/MyDrive/background_removal_DL/test_data/videos/input_frames/input111.png', '/content/gdrive/MyDrive/background_removal_DL/test_data/videos/input_frames/input112.png', '/content/gdrive/MyDrive/background_removal_DL/test_data/videos/input_frames/input113.png', '/content/gdrive/MyDrive/background_removal_DL/test_data/videos/input_frames/input114.png', '/content/gdrive/MyDrive/background_removal_DL/test_data/videos/input_frames/input115.png', '/content/gdrive/MyDrive/background_removal_DL/test_data/videos/input_frames/input116.png', '/content/gdrive/MyDrive/background_removal_DL/test_data/videos/input_frames/input117.png', '/content/gdrive/MyDrive/background_removal_DL/test_data/videos/input_frames/input118.png', '/content/gdrive/MyDrive/background_removal_DL/test_data/videos/input_frames/input119.png', '/content/gdrive/MyDrive/background_removal_DL/test_data/videos/input_frames/input120.png', '/content/gdrive/MyDrive/background_removal_DL/test_data/videos/input_frames/input121.png', '/content/gdrive/MyDrive/background_removal_DL/test_data/videos/input_frames/input122.png', '/content/gdrive/MyDrive/background_removal_DL/test_data/videos/input_frames/input123.png', '/content/gdrive/MyDrive/background_removal_DL/test_data/videos/input_frames/input124.png', '/content/gdrive/MyDrive/background_removal_DL/test_data/videos/input_frames/input125.png', '/content/gdrive/MyDrive/background_removal_DL/test_data/videos/input_frames/input126.png', '/content/gdrive/MyDrive/background_removal_DL/test_data/videos/input_frames/input127.png', '/content/gdrive/MyDrive/background_removal_DL/test_data/videos/input_frames/input128.png', '/content/gdrive/MyDrive/background_removal_DL/test_data/videos/input_frames/input129.png', '/content/gdrive/MyDrive/background_removal_DL/test_data/videos/input_frames/input130.png', '/content/gdrive/MyDrive/background_removal_DL/test_data/videos/input_frames/input131.png', '/content/gdrive/MyDrive/background_removal_DL/test_data/videos/input_frames/input132.png', '/content/gdrive/MyDrive/background_removal_DL/test_data/videos/input_frames/input133.png', '/content/gdrive/MyDrive/background_removal_DL/test_data/videos/input_frames/input134.png', '/content/gdrive/MyDrive/background_removal_DL/test_data/videos/input_frames/input135.png', '/content/gdrive/MyDrive/background_removal_DL/test_data/videos/input_frames/input136.png', '/content/gdrive/MyDrive/background_removal_DL/test_data/videos/input_frames/input137.png', '/content/gdrive/MyDrive/background_removal_DL/test_data/videos/input_frames/input138.png', '/content/gdrive/MyDrive/background_removal_DL/test_data/videos/input_frames/input139.png', '/content/gdrive/MyDrive/background_removal_DL/test_data/videos/input_frames/input140.png', '/content/gdrive/MyDrive/background_removal_DL/test_data/videos/input_frames/input141.png', '/content/gdrive/MyDrive/background_removal_DL/test_data/videos/input_frames/input142.png', '/content/gdrive/MyDrive/background_removal_DL/test_data/videos/input_frames/input143.png', '/content/gdrive/MyDrive/background_removal_DL/test_data/videos/input_frames/input144.png', '/content/gdrive/MyDrive/background_removal_DL/test_data/videos/input_frames/input145.png', '/content/gdrive/MyDrive/background_removal_DL/test_data/videos/input_frames/input146.png', '/content/gdrive/MyDrive/background_removal_DL/test_data/videos/input_frames/input147.png', '/content/gdrive/MyDrive/background_removal_DL/test_data/videos/input_frames/input148.png', '/content/gdrive/MyDrive/background_removal_DL/test_data/videos/input_frames/input149.png', '/content/gdrive/MyDrive/background_removal_DL/test_data/videos/input_frames/input150.png', '/content/gdrive/MyDrive/background_removal_DL/test_data/videos/input_frames/input151.png', '/content/gdrive/MyDrive/background_removal_DL/test_data/videos/input_frames/input152.png', '/content/gdrive/MyDrive/background_removal_DL/test_data/videos/input_frames/input153.png', '/content/gdrive/MyDrive/background_removal_DL/test_data/videos/input_frames/input154.png', '/content/gdrive/MyDrive/background_removal_DL/test_data/videos/input_frames/input155.png', '/content/gdrive/MyDrive/background_removal_DL/test_data/videos/input_frames/input156.png', '/content/gdrive/MyDrive/background_removal_DL/test_data/videos/input_frames/input157.png', '/content/gdrive/MyDrive/background_removal_DL/test_data/videos/input_frames/input158.png', '/content/gdrive/MyDrive/background_removal_DL/test_data/videos/input_frames/input159.png', '/content/gdrive/MyDrive/background_removal_DL/test_data/videos/input_frames/input160.png', '/content/gdrive/MyDrive/background_removal_DL/test_data/videos/input_frames/input161.png', '/content/gdrive/MyDrive/background_removal_DL/test_data/videos/input_frames/input162.png', '/content/gdrive/MyDrive/background_removal_DL/test_data/videos/input_frames/input163.png', '/content/gdrive/MyDrive/background_removal_DL/test_data/videos/input_frames/input164.png', '/content/gdrive/MyDrive/background_removal_DL/test_data/videos/input_frames/input165.png', '/content/gdrive/MyDrive/background_removal_DL/test_data/videos/input_frames/input166.png', '/content/gdrive/MyDrive/background_removal_DL/test_data/videos/input_frames/input167.png', '/content/gdrive/MyDrive/background_removal_DL/test_data/videos/input_frames/input168.png', '/content/gdrive/MyDrive/background_removal_DL/test_data/videos/input_frames/input169.png', '/content/gdrive/MyDrive/background_removal_DL/test_data/videos/input_frames/input170.png', '/content/gdrive/MyDrive/background_removal_DL/test_data/videos/input_frames/input171.png', '/content/gdrive/MyDrive/background_removal_DL/test_data/videos/input_frames/input172.png', '/content/gdrive/MyDrive/background_removal_DL/test_data/videos/input_frames/input173.png', '/content/gdrive/MyDrive/background_removal_DL/test_data/videos/input_frames/input174.png', '/content/gdrive/MyDrive/background_removal_DL/test_data/videos/input_frames/input175.png', '/content/gdrive/MyDrive/background_removal_DL/test_data/videos/input_frames/input176.png', '/content/gdrive/MyDrive/background_removal_DL/test_data/videos/input_frames/input177.png', '/content/gdrive/MyDrive/background_removal_DL/test_data/videos/input_frames/input178.png', '/content/gdrive/MyDrive/background_removal_DL/test_data/videos/input_frames/input179.png', '/content/gdrive/MyDrive/background_removal_DL/test_data/videos/input_frames/input180.png', '/content/gdrive/MyDrive/background_removal_DL/test_data/videos/input_frames/input181.png', '/content/gdrive/MyDrive/background_removal_DL/test_data/videos/input_frames/input182.png', '/content/gdrive/MyDrive/background_removal_DL/test_data/videos/input_frames/input183.png', '/content/gdrive/MyDrive/background_removal_DL/test_data/videos/input_frames/input184.png', '/content/gdrive/MyDrive/background_removal_DL/test_data/videos/input_frames/input185.png', '/content/gdrive/MyDrive/background_removal_DL/test_data/videos/input_frames/input186.png', '/content/gdrive/MyDrive/background_removal_DL/test_data/videos/input_frames/input187.png', '/content/gdrive/MyDrive/background_removal_DL/test_data/videos/input_frames/input188.png', '/content/gdrive/MyDrive/background_removal_DL/test_data/videos/input_frames/input189.png', '/content/gdrive/MyDrive/background_removal_DL/test_data/videos/input_frames/input190.png', '/content/gdrive/MyDrive/background_removal_DL/test_data/videos/input_frames/input191.png', '/content/gdrive/MyDrive/background_removal_DL/test_data/videos/input_frames/input192.png', '/content/gdrive/MyDrive/background_removal_DL/test_data/videos/input_frames/input193.png', '/content/gdrive/MyDrive/background_removal_DL/test_data/videos/input_frames/input194.png', '/content/gdrive/MyDrive/background_removal_DL/test_data/videos/input_frames/input195.png', '/content/gdrive/MyDrive/background_removal_DL/test_data/videos/input_frames/input196.png', '/content/gdrive/MyDrive/background_removal_DL/test_data/videos/input_frames/input197.png', '/content/gdrive/MyDrive/background_removal_DL/test_data/videos/input_frames/input198.png', '/content/gdrive/MyDrive/background_removal_DL/test_data/videos/input_frames/input199.png', '/content/gdrive/MyDrive/background_removal_DL/test_data/videos/input_frames/input200.png', '/content/gdrive/MyDrive/background_removal_DL/test_data/videos/input_frames/input201.png', '/content/gdrive/MyDrive/background_removal_DL/test_data/videos/input_frames/input202.png', '/content/gdrive/MyDrive/background_removal_DL/test_data/videos/input_frames/input203.png', '/content/gdrive/MyDrive/background_removal_DL/test_data/videos/input_frames/input204.png', '/content/gdrive/MyDrive/background_removal_DL/test_data/videos/input_frames/input205.png', '/content/gdrive/MyDrive/background_removal_DL/test_data/videos/input_frames/input206.png', '/content/gdrive/MyDrive/background_removal_DL/test_data/videos/input_frames/input207.png', '/content/gdrive/MyDrive/background_removal_DL/test_data/videos/input_frames/input208.png', '/content/gdrive/MyDrive/background_removal_DL/test_data/videos/input_frames/input209.png', '/content/gdrive/MyDrive/background_removal_DL/test_data/videos/input_frames/input210.png', '/content/gdrive/MyDrive/background_removal_DL/test_data/videos/input_frames/input211.png', '/content/gdrive/MyDrive/background_removal_DL/test_data/videos/input_frames/input212.png', '/content/gdrive/MyDrive/background_removal_DL/test_data/videos/input_frames/input213.png', '/content/gdrive/MyDrive/background_removal_DL/test_data/videos/input_frames/input214.png', '/content/gdrive/MyDrive/background_removal_DL/test_data/videos/input_frames/input215.png', '/content/gdrive/MyDrive/background_removal_DL/test_data/videos/input_frames/input216.png', '/content/gdrive/MyDrive/background_removal_DL/test_data/videos/input_frames/input217.png', '/content/gdrive/MyDrive/background_removal_DL/test_data/videos/input_frames/input218.png', '/content/gdrive/MyDrive/background_removal_DL/test_data/videos/input_frames/input219.png', '/content/gdrive/MyDrive/background_removal_DL/test_data/videos/input_frames/input220.png', '/content/gdrive/MyDrive/background_removal_DL/test_data/videos/input_frames/input221.png', '/content/gdrive/MyDrive/background_removal_DL/test_data/videos/input_frames/input222.png', '/content/gdrive/MyDrive/background_removal_DL/test_data/videos/input_frames/input223.png', '/content/gdrive/MyDrive/background_removal_DL/test_data/videos/input_frames/input224.png', '/content/gdrive/MyDrive/background_removal_DL/test_data/videos/input_frames/input225.png', '/content/gdrive/MyDrive/background_removal_DL/test_data/videos/input_frames/input226.png', '/content/gdrive/MyDrive/background_removal_DL/test_data/videos/input_frames/input227.png', '/content/gdrive/MyDrive/background_removal_DL/test_data/videos/input_frames/input228.png', '/content/gdrive/MyDrive/background_removal_DL/test_data/videos/input_frames/input229.png', '/content/gdrive/MyDrive/background_removal_DL/test_data/videos/input_frames/input230.png', '/content/gdrive/MyDrive/background_removal_DL/test_data/videos/input_frames/input231.png', '/content/gdrive/MyDrive/background_removal_DL/test_data/videos/input_frames/input232.png', '/content/gdrive/MyDrive/background_removal_DL/test_data/videos/input_frames/input233.png', '/content/gdrive/MyDrive/background_removal_DL/test_data/videos/input_frames/input234.png', '/content/gdrive/MyDrive/background_removal_DL/test_data/videos/input_frames/input235.png', '/content/gdrive/MyDrive/background_removal_DL/test_data/videos/input_frames/input236.png', '/content/gdrive/MyDrive/background_removal_DL/test_data/videos/input_frames/input237.png', '/content/gdrive/MyDrive/background_removal_DL/test_data/videos/input_frames/input238.png', '/content/gdrive/MyDrive/background_removal_DL/test_data/videos/input_frames/input239.png', '/content/gdrive/MyDrive/background_removal_DL/test_data/videos/input_frames/input240.png', '/content/gdrive/MyDrive/background_removal_DL/test_data/videos/input_frames/input241.png', '/content/gdrive/MyDrive/background_removal_DL/test_data/videos/input_frames/input242.png', '/content/gdrive/MyDrive/background_removal_DL/test_data/videos/input_frames/input243.png', '/content/gdrive/MyDrive/background_removal_DL/test_data/videos/input_frames/input244.png', '/content/gdrive/MyDrive/background_removal_DL/test_data/videos/input_frames/input245.png', '/content/gdrive/MyDrive/background_removal_DL/test_data/videos/input_frames/input246.png', '/content/gdrive/MyDrive/background_removal_DL/test_data/videos/input_frames/input247.png', '/content/gdrive/MyDrive/background_removal_DL/test_data/videos/input_frames/input248.png', '/content/gdrive/MyDrive/background_removal_DL/test_data/videos/input_frames/input249.png', '/content/gdrive/MyDrive/background_removal_DL/test_data/videos/input_frames/input250.png', '/content/gdrive/MyDrive/background_removal_DL/test_data/videos/input_frames/input251.png', '/content/gdrive/MyDrive/background_removal_DL/test_data/videos/input_frames/input252.png', '/content/gdrive/MyDrive/background_removal_DL/test_data/videos/input_frames/input253.png', '/content/gdrive/MyDrive/background_removal_DL/test_data/videos/input_frames/input254.png', '/content/gdrive/MyDrive/background_removal_DL/test_data/videos/input_frames/input255.png', '/content/gdrive/MyDrive/background_removal_DL/test_data/videos/input_frames/input256.png', '/content/gdrive/MyDrive/background_removal_DL/test_data/videos/input_frames/input257.png', '/content/gdrive/MyDrive/background_removal_DL/test_data/videos/input_frames/input258.png', '/content/gdrive/MyDrive/background_removal_DL/test_data/videos/input_frames/input259.png', '/content/gdrive/MyDrive/background_removal_DL/test_data/videos/input_frames/input260.png', '/content/gdrive/MyDrive/background_removal_DL/test_data/videos/input_frames/input261.png', '/content/gdrive/MyDrive/background_removal_DL/test_data/videos/input_frames/input262.png', '/content/gdrive/MyDrive/background_removal_DL/test_data/videos/input_frames/input263.png', '/content/gdrive/MyDrive/background_removal_DL/test_data/videos/input_frames/input264.png', '/content/gdrive/MyDrive/background_removal_DL/test_data/videos/input_frames/input265.png', '/content/gdrive/MyDrive/background_removal_DL/test_data/videos/input_frames/input266.png', '/content/gdrive/MyDrive/background_removal_DL/test_data/videos/input_frames/input267.png', '/content/gdrive/MyDrive/background_removal_DL/test_data/videos/input_frames/input268.png', '/content/gdrive/MyDrive/background_removal_DL/test_data/videos/input_frames/input269.png', '/content/gdrive/MyDrive/background_removal_DL/test_data/videos/input_frames/input270.png', '/content/gdrive/MyDrive/background_removal_DL/test_data/videos/input_frames/input271.png', '/content/gdrive/MyDrive/background_removal_DL/test_data/videos/input_frames/input272.png', '/content/gdrive/MyDrive/background_removal_DL/test_data/videos/input_frames/input273.png', '/content/gdrive/MyDrive/background_removal_DL/test_data/videos/input_frames/input274.png', '/content/gdrive/MyDrive/background_removal_DL/test_data/videos/input_frames/input275.png', '/content/gdrive/MyDrive/background_removal_DL/test_data/videos/input_frames/input276.png', '/content/gdrive/MyDrive/background_removal_DL/test_data/videos/input_frames/input277.png', '/content/gdrive/MyDrive/background_removal_DL/test_data/videos/input_frames/input278.png', '/content/gdrive/MyDrive/background_removal_DL/test_data/videos/input_frames/input279.png', '/content/gdrive/MyDrive/background_removal_DL/test_data/videos/input_frames/input280.png', '/content/gdrive/MyDrive/background_removal_DL/test_data/videos/input_frames/input281.png', '/content/gdrive/MyDrive/background_removal_DL/test_data/videos/input_frames/input282.png', '/content/gdrive/MyDrive/background_removal_DL/test_data/videos/input_frames/input283.png', '/content/gdrive/MyDrive/background_removal_DL/test_data/videos/input_frames/input284.png', '/content/gdrive/MyDrive/background_removal_DL/test_data/videos/input_frames/input285.png', '/content/gdrive/MyDrive/background_removal_DL/test_data/videos/input_frames/input286.png', '/content/gdrive/MyDrive/background_removal_DL/test_data/videos/input_frames/input287.png', '/content/gdrive/MyDrive/background_removal_DL/test_data/videos/input_frames/input288.png', '/content/gdrive/MyDrive/background_removal_DL/test_data/videos/input_frames/input289.png', '/content/gdrive/MyDrive/background_removal_DL/test_data/videos/input_frames/input290.png', '/content/gdrive/MyDrive/background_removal_DL/test_data/videos/input_frames/input291.png', '/content/gdrive/MyDrive/background_removal_DL/test_data/videos/input_frames/input292.png', '/content/gdrive/MyDrive/background_removal_DL/test_data/videos/input_frames/input293.png', '/content/gdrive/MyDrive/background_removal_DL/test_data/videos/input_frames/input294.png', '/content/gdrive/MyDrive/background_removal_DL/test_data/videos/input_frames/input295.png', '/content/gdrive/MyDrive/background_removal_DL/test_data/videos/input_frames/input296.png', '/content/gdrive/MyDrive/background_removal_DL/test_data/videos/input_frames/input297.png', '/content/gdrive/MyDrive/background_removal_DL/test_data/videos/input_frames/input298.png', '/content/gdrive/MyDrive/background_removal_DL/test_data/videos/input_frames/input299.png', '/content/gdrive/MyDrive/background_removal_DL/test_data/videos/input_frames/input300.png', '/content/gdrive/MyDrive/background_removal_DL/test_data/videos/input_frames/input301.png', '/content/gdrive/MyDrive/background_removal_DL/test_data/videos/input_frames/input302.png', '/content/gdrive/MyDrive/background_removal_DL/test_data/videos/input_frames/input303.png', '/content/gdrive/MyDrive/background_removal_DL/test_data/videos/input_frames/input304.png', '/content/gdrive/MyDrive/background_removal_DL/test_data/videos/input_frames/input305.png', '/content/gdrive/MyDrive/background_removal_DL/test_data/videos/input_frames/input306.png', '/content/gdrive/MyDrive/background_removal_DL/test_data/videos/input_frames/input307.png']\n",
            "...load U2NET---173.6 MB\n",
            "Traceback (most recent call last):\n",
            "  File \"/content/gdrive/MyDrive/background_removal_DL/u2net_video.py\", line 119, in <module>\n",
            "    main()\n",
            "  File \"/content/gdrive/MyDrive/background_removal_DL/u2net_video.py\", line 87, in main\n",
            "    net.load_state_dict(torch.load(model_dir))\n",
            "  File \"/usr/local/lib/python3.10/dist-packages/torch/serialization.py\", line 1040, in load\n",
            "    return _legacy_load(opened_file, map_location, pickle_module, **pickle_load_args)\n",
            "  File \"/usr/local/lib/python3.10/dist-packages/torch/serialization.py\", line 1272, in _legacy_load\n",
            "    result = unpickler.load()\n",
            "  File \"/usr/local/lib/python3.10/dist-packages/torch/serialization.py\", line 1205, in persistent_load\n",
            "    obj = restore_location(obj, location)\n",
            "  File \"/usr/local/lib/python3.10/dist-packages/torch/serialization.py\", line 390, in default_restore_location\n",
            "    result = fn(storage, location)\n",
            "  File \"/usr/local/lib/python3.10/dist-packages/torch/serialization.py\", line 265, in _cuda_deserialize\n",
            "    device = validate_cuda_device(location)\n",
            "  File \"/usr/local/lib/python3.10/dist-packages/torch/serialization.py\", line 249, in validate_cuda_device\n",
            "    raise RuntimeError('Attempting to deserialize object on a CUDA '\n",
            "RuntimeError: Attempting to deserialize object on a CUDA device but torch.cuda.is_available() is False. If you are running on a CPU-only machine, please use torch.load with map_location=torch.device('cpu') to map your storages to the CPU.\n"
          ]
        }
      ]
    },
    {
      "cell_type": "code",
      "source": [
        "for i in range(count):\n",
        "\n",
        "  #u2netreusult\n",
        "  u2netresult=cv2.imread('/content/gdrive/MyDrive/background_removal_DL/test_data/videos/input_frames/input'+str(i)+'.png')\n",
        "  #original\n",
        "  original=cv2.imread('/content/gdrive/MyDrive/background_removal_DL/test_data/videos/input_frames/input'+str(i)+'.png')\n",
        "\n",
        "if u2netresult is None or original is None:\n",
        "    print(\"Error: No se pudo cargar una o ambas imágenes.\")\n",
        "    # Sal del bucle o maneja el error según tus necesidades\n",
        "\n",
        "\n",
        "# Asegúrate de que las imágenes tengan las mismas dimensiones\n",
        "if u2netresult.shape != original.shape:\n",
        "    # Redimensiona la imagen original para que tenga las mismas dimensiones que u2netresult\n",
        "    original = cv2.resize(original, (u2netresult.shape[1], u2netresult.shape[0]))\n",
        "\n",
        "# Realiza la resta\n",
        "subimage = cv2.subtract(u2netresult, original)\n",
        "cv2.imwrite('/content/gdrive/MyDrive/background_removal_DL/test_data/videos/output_frames/output'+str(i)+'.png', subimage)\n",
        "\n",
        "\n",
        "\n",
        "  #subimage\n",
        "subimage=Image.open('/content/gdrive/MyDrive/background_removal_DL/test_data/videos/output_frames/output'+str(i)+'.png')\n",
        "  #original\n",
        "original=Image.open('/content/gdrive/MyDrive/background_removal_DL/test_data/videos/input_frames/input'+str(i)+'.png')\n",
        "\n",
        "subimage=subimage.convert(\"RGBA\")\n",
        "original=original.convert(\"RGBA\")\n",
        "\n",
        "subdata=subimage.getdata()\n",
        "ogdata=original.getdata()\n",
        "\n",
        "newdata=[]\n",
        "\n",
        "img_array = []\n",
        "\n",
        "for i in range(subdata.size[0]*subdata.size[1]):\n",
        "    if subdata[i][0]==0 and subdata[i][1]==0 and subdata[i][2]==0:\n",
        "      newdata.append((255,255,255,0))\n",
        "    else:\n",
        "      newdata.append(ogdata[i])\n",
        "subimage.putdata(newdata)\n",
        "subimage.save('/content/gdrive/MyDrive/background_removal_DL/test_data/videos/output_frames/output'+str(i)+'.png',\"PNG\")\n",
        "\n",
        "final_img=cv2.imread('/content/gdrive/MyDrive/background_removal_DL/test_data/videos/output_frames/output'+str(i)+'.png')\n",
        "ht,wd,l=final_img.shape\n",
        "sz=(wd,ht)\n",
        "img_array.append(final_img)"
      ],
      "metadata": {
        "id": "bN2SMy30suIi"
      },
      "execution_count": 73,
      "outputs": []
    },
    {
      "cell_type": "code",
      "source": [
        "#CHANGE OUTPUT FILE EXTENSION HERE - BY DEFAULT: .mp4\n",
        "outv=cv2.VideoWriter('/content/gdrive/MyDrive/background_removal_DL/test_data/videos/output/output-prueba-ia.mp4',cv2.VideoWriter_fourcc(*'MP4V'),fps,sz)\n",
        "\n",
        "for i in img_array:\n",
        "  outv.write(i)\n",
        "\n",
        "outv.release()\n"
      ],
      "metadata": {
        "id": "ShXITpJUslUm"
      },
      "execution_count": 74,
      "outputs": []
    },
    {
      "cell_type": "code",
      "source": [
        "# solo para eliminar los temporary folders\n",
        "\n",
        "%cd '/content/gdrive/MyDrive/background_removal_DL/test_data/videos'\n",
        "!rm -R u2net_results\n",
        "!rm -R input_frames\n",
        "!rm -R output_frames"
      ],
      "metadata": {
        "id": "SHDpG3Q_11B-"
      },
      "execution_count": null,
      "outputs": []
    }
  ]
}